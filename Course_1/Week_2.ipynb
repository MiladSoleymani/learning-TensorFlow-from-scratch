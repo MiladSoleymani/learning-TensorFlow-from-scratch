{
  "nbformat": 4,
  "nbformat_minor": 0,
  "metadata": {
    "colab": {
      "name": "Week 2.ipynb",
      "provenance": [],
      "collapsed_sections": [],
      "toc_visible": true
    },
    "kernelspec": {
      "name": "python3",
      "display_name": "Python 3"
    },
    "language_info": {
      "name": "python"
    }
  },
  "cells": [
    {
      "cell_type": "markdown",
      "metadata": {
        "id": "eG1SAW1Bw9WC"
      },
      "source": [
        "##week 2\n",
        "\n",
        "\n"
      ]
    },
    {
      "cell_type": "markdown",
      "metadata": {
        "id": "tthkw1m5f7YN"
      },
      "source": [
        "**After getting acquainted with how to build a simple model by Tensorflow, this week we will try to perform some simple classifications on the mnist dataset and predict the image label.**\n",
        "\n",
        "---\n",
        "\n",
        "1. **MNIST digits dataset**\n",
        "\n",
        "    * This is a dataset of 60,000 28x28 grayscale images of the 10 digits, along with a test set of 10,000 images. More info can be found at the [MNIST homepage](http://yann.lecun.com/exdb/mnist/).\n",
        "\n",
        "    * How to import it is as follows.\n",
        "            from keras.datasets import mnist\n",
        "            (X_train, y_train), (X_test, y_test) = mnist.load_data(\"mnist.npz\")\n",
        "\n",
        "2. **Fashion MNIST dataset, an alternative to MNIST**\n",
        "\n",
        "    * This is a dataset of 60,000 28x28 grayscale images of 10 fashion categories, along with a test set of 10,000 images. This dataset can be used as a drop-in replacement for MNIST.\n",
        "\n",
        "        * How to import it is as follows.\n",
        "\n",
        "                from keras.datasets import fashion_mnist\n",
        "                (X_train, y_train), (X_test, y_test) = fashion_mnist.load_data()\n",
        "\n",
        "3. **Callbacks API**\n",
        "\n",
        "    * A callback is an object that can perform actions at various stages of training (e.g. at the start or end of an epoch, before or after a single batch, etc).\n",
        "\n",
        "    * You can use callbacks to:\n",
        "        * Write TensorBoard logs after every batch of training to monitor your metrics\n",
        "        * Periodically save your model to disk\n",
        "        * Do early stopping\n",
        "        * Get a view on internal states and statistics of a model during training\n",
        "        * ...and more\n",
        "\n",
        "    * Here we only look at the Base Callback class and how to use it. You can go [here](https://keras.io/api/callbacks/) and [here](https://keras.io/api/callbacks/base_callback/) for more information.\n",
        "\n",
        "\n",
        "4. **sparse_categorical_crossentropy**\n",
        "\n",
        "    * Computes the crossentropy loss between the labels and predictions.\n",
        "\n",
        "    * Use this crossentropy loss function when there are two or more label classes. We expect labels to be provided as integers. If you want to provide labels using one-hot representation, please use CategoricalCrossentropy loss. There should be # classes floating point values per feature for y_pred and a single floating point value per feature for y_true.\n",
        "\n",
        "    * In the snippet below, there is a single floating point value per example for y_true and # classes floating pointing values per example for y_pred. The shape of y_true is [batch_size] and the shape of y_pred is [batch_size, num_classes].\n",
        "\n",
        "\n",
        "5. **relu**\n",
        "\n",
        "    * With default values, this returns the standard ReLU activation: max(x, 0), the element-wise maximum of 0 and the input tensor.\n",
        "    \n",
        "    * Activations can either be used through an Activation layer, or through the activation argument supported by all forward layers:\n",
        "\n",
        "    * Dense(64, activation=tf.nn.relu)\n",
        "\n",
        "\n",
        "\n",
        "6. **softmax**\n",
        "\n",
        "    * Softmax converts a vector of values to a probability distribution.\n",
        "\n",
        "    * The elements of the output vector are in range (0, 1) and sum to 1.\n",
        "\n",
        "    * Each vector is handled independently. The axis argument sets which axis of the input the function is applied along.\n",
        "\n",
        "    * Softmax is often used as the activation for the last layer of a classification network because the result could be interpreted as a probability distribution.\n",
        "\n",
        "    * The softmax of each vector x is computed as exp(x) / tf.reduce_sum(exp(x)).\n",
        "    \n",
        "    * Activations can either be used through an Activation layer, or through the activation argument supported by all forward layers:\n",
        "\n",
        "    * Dense(64, activation=tf.nn.softmax)\n",
        "\n"
      ]
    },
    {
      "cell_type": "markdown",
      "metadata": {
        "id": "HLdA0SnQn9ZC"
      },
      "source": [
        "### example_1"
      ]
    },
    {
      "cell_type": "markdown",
      "metadata": {
        "id": "rwOTK-DeoR52"
      },
      "source": [
        "MNIST digits dataset"
      ]
    },
    {
      "cell_type": "code",
      "metadata": {
        "colab": {
          "base_uri": "https://localhost:8080/"
        },
        "id": "_CESsZGnlH0_",
        "outputId": "bdf74f95-c7e4-4fe0-cddb-385465c2c414"
      },
      "source": [
        "import tensorflow as tf\n",
        "from keras.datasets import mnist\n",
        "from keras.layers import Dense,Flatten\n",
        "from keras import models\n",
        "import matplotlib\n",
        "matplotlib.use('agg')\n",
        "import matplotlib.pyplot as plt\n",
        "print(tf.__git_version__)"
      ],
      "execution_count": null,
      "outputs": [
        {
          "output_type": "stream",
          "text": [
            "v2.5.0-0-ga4dfb8d1a71\n"
          ],
          "name": "stdout"
        }
      ]
    },
    {
      "cell_type": "code",
      "metadata": {
        "colab": {
          "base_uri": "https://localhost:8080/",
          "height": 283
        },
        "id": "_p4tiG0Kx8wB",
        "outputId": "347634d1-7ee4-467c-f198-a50f722b1f97"
      },
      "source": [
        "(X_train, y_train), (X_test, y_test) = mnist.load_data(\"mnist.npz\")\n",
        "\n",
        "X_train = X_train/255\n",
        "X_test = X_test/255\n",
        "\n",
        "fig = plt.figure()\n",
        "for i in range(9):\n",
        "  plt.subplot(3,3,i+1)\n",
        "  plt.tight_layout()\n",
        "  plt.imshow(X_train[i], cmap='gray', interpolation='none')\n",
        "  plt.title(\"Digit: {}\".format(y_train[i]))\n",
        "  plt.xticks([])\n",
        "  plt.yticks([])\n",
        "fig"
      ],
      "execution_count": null,
      "outputs": [
        {
          "output_type": "execute_result",
          "data": {
            "image/png": "[encoded data removed]",
            "text/plain": [
              "<Figure size 432x288 with 9 Axes>"
            ]
          },
          "metadata": {
            "tags": []
          },
          "execution_count": 58
        }
      ]
    },
    {
      "cell_type": "markdown",
      "metadata": {
        "id": "nvfn3hFPp9Bk"
      },
      "source": [
        "Here is an example of how to use callbacks, in which if the accuracy exceeds 0.99, the model stops spontaneously.\n",
        "\n",
        "\n"
      ]
    },
    {
      "cell_type": "code",
      "metadata": {
        "id": "-nYNojsBoe8s"
      },
      "source": [
        "class myCallback(tf.keras.callbacks.Callback):\n",
        "    def on_epoch_end(self, epoch, logs = {}):\n",
        "        if(logs.get('accuracy') > 0.98):\n",
        "            print(\"Reached 90% accuracy so cancelling training!\")\n",
        "            self.model.stop_training = True"
      ],
      "execution_count": null,
      "outputs": []
    },
    {
      "cell_type": "code",
      "metadata": {
        "id": "8RWfx_vbOi0A",
        "colab": {
          "base_uri": "https://localhost:8080/"
        },
        "outputId": "712d7eb7-824f-4356-831d-924aaa11e641"
      },
      "source": [
        "callbacks = myCallback()\n",
        "model = models.Sequential([\n",
        "    Flatten(),\n",
        "    Dense(512, activation = tf.nn.relu),\n",
        "    Dense(256, activation = tf.nn.relu),\n",
        "    Dense(128, activation = tf.nn.relu),\n",
        "    Dense(10, activation = tf.nn.softmax)\n",
        "])\n",
        "\n",
        "model.compile(optimizer='adam',\n",
        "                loss='sparse_categorical_crossentropy',\n",
        "                metrics=['accuracy'])\n",
        "\n",
        "history = model.fit(X_train, y_train,\n",
        "                    epochs = 8 ,validation_split=0.1, callbacks = [callbacks]\n",
        ")\n",
        "\n",
        "print(history.history['accuracy'][-1])"
      ],
      "execution_count": null,
      "outputs": [
        {
          "output_type": "stream",
          "text": [
            "Epoch 1/8\n",
            "1688/1688 [==============================] - 5s 3ms/step - loss: 0.3489 - accuracy: 0.8898 - val_loss: 0.1071 - val_accuracy: 0.9705\n",
            "Epoch 2/8\n",
            "1688/1688 [==============================] - 4s 2ms/step - loss: 0.0924 - accuracy: 0.9728 - val_loss: 0.0762 - val_accuracy: 0.9787\n",
            "Epoch 3/8\n",
            "1688/1688 [==============================] - 4s 2ms/step - loss: 0.0593 - accuracy: 0.9820 - val_loss: 0.0933 - val_accuracy: 0.9747\n",
            "Reached 90% accuracy so cancelling training!\n",
            "0.9806666374206543\n"
          ],
          "name": "stdout"
        }
      ]
    },
    {
      "cell_type": "markdown",
      "metadata": {
        "id": "VX0kZD2ruEb8"
      },
      "source": [
        "### example_2\n"
      ]
    },
    {
      "cell_type": "markdown",
      "metadata": {
        "id": "2Cq60hyNvO11"
      },
      "source": [
        "Fashion MNIST dataset, an alternative to MNIST"
      ]
    },
    {
      "cell_type": "code",
      "metadata": {
        "colab": {
          "base_uri": "https://localhost:8080/"
        },
        "id": "RaMEOOwsvHOy",
        "outputId": "3a643f7d-3372-45a4-ce20-4c01943f0161"
      },
      "source": [
        "import tensorflow as tf\n",
        "from keras.datasets import fashion_mnist\n",
        "from keras.layers import Dense,Flatten\n",
        "from keras import models\n",
        "import matplotlib\n",
        "matplotlib.use('agg')\n",
        "import matplotlib.pyplot as plt\n",
        "print(tf.__git_version__)"
      ],
      "execution_count": null,
      "outputs": [
        {
          "output_type": "stream",
          "text": [
            "v2.5.0-0-ga4dfb8d1a71\n"
          ],
          "name": "stdout"
        }
      ]
    },
    {
      "cell_type": "code",
      "metadata": {
        "colab": {
          "base_uri": "https://localhost:8080/",
          "height": 746
        },
        "id": "YjM5oigVwLxk",
        "outputId": "def976f4-24dc-4990-e353-0c6e63b178ff"
      },
      "source": [
        "(X_train, y_train), (X_test, y_test) = fashion_mnist.load_data()\n",
        "\n",
        "X_train = X_train/255\n",
        "X_test = X_test/255\n",
        "\n",
        "fig = plt.figure()\n",
        "for i in range(9):\n",
        "  plt.subplot(3,3,i+1)\n",
        "  plt.tight_layout()\n",
        "  plt.imshow(X_train[i], cmap='gray', interpolation='none')\n",
        "  plt.title(\"Lable: {}\".format(y_train[i]))\n",
        "  plt.xticks([])\n",
        "  plt.yticks([])\n",
        "fig"
      ],
      "execution_count": null,
      "outputs": [
        {
          "output_type": "stream",
          "text": [
            "Downloading data from https://storage.googleapis.com/tensorflow/tf-keras-datasets/train-labels-idx1-ubyte.gz\n",
            "32768/29515 [=================================] - 0s 0us/step\n",
            "40960/29515 [=========================================] - 0s 0us/step\n",
            "Downloading data from https://storage.googleapis.com/tensorflow/tf-keras-datasets/train-images-idx3-ubyte.gz\n",
            "26427392/26421880 [==============================] - 0s 0us/step\n",
            "26435584/26421880 [==============================] - 0s 0us/step\n",
            "Downloading data from https://storage.googleapis.com/tensorflow/tf-keras-datasets/t10k-labels-idx1-ubyte.gz\n",
            "16384/5148 [===============================================================================================] - 0s 0us/step\n",
            "Downloading data from https://storage.googleapis.com/tensorflow/tf-keras-datasets/t10k-images-idx3-ubyte.gz\n",
            "4423680/4422102 [==============================] - 0s 0us/step\n",
            "4431872/4422102 [==============================] - 0s 0us/step\n"
          ],
          "name": "stdout"
        },
        {
          "output_type": "execute_result",
          "data": {
            "image/png": "[encoded data removed]",
            "text/plain": [
              "<Figure size 432x288 with 9 Axes>"
            ]
          },
          "metadata": {
            "tags": []
          },
          "execution_count": 33
        },
        {
          "output_type": "display_data",
          "data": {
            "image/png": "[encoded data removed]",
            "text/plain": [
              "<Figure size 432x288 with 9 Axes>"
            ]
          },
          "metadata": {
            "tags": []
          }
        }
      ]
    },
    {
      "cell_type": "code",
      "metadata": {
        "id": "IiDFbNucwklb"
      },
      "source": [
        "class myCallback(tf.keras.callbacks.Callback):\n",
        "    def on_epoch_end(self, epoch, logs = {}):\n",
        "        if(logs.get('accuracy') > 0.90):\n",
        "            print(\"Reached 90% accuracy so cancelling training!\")\n",
        "            self.model.stop_training = True"
      ],
      "execution_count": null,
      "outputs": []
    },
    {
      "cell_type": "code",
      "metadata": {
        "colab": {
          "base_uri": "https://localhost:8080/"
        },
        "id": "xZnP0x7lwnHe",
        "outputId": "c6cafed1-dd2f-403d-bad1-12e3618bcffa"
      },
      "source": [
        "callbacks = myCallback()\n",
        "model = models.Sequential([\n",
        "    Flatten(),\n",
        "    Dense(256, activation = tf.nn.relu),\n",
        "    Dense(128, activation = tf.nn.relu),\n",
        "    Dense(64, activation = tf.nn.relu),\n",
        "    Dense(10, activation = tf.nn.softmax)\n",
        "])\n",
        "\n",
        "model.compile(optimizer='adam',\n",
        "                loss='sparse_categorical_crossentropy',\n",
        "                metrics=['accuracy'])\n",
        "\n",
        "\n",
        "history = model.fit(X_train, y_train,\n",
        "                    epochs = 8, validation_data=(X_test,y_test),\n",
        "                    callbacks = [callbacks]\n",
        "                    )\n",
        "\n",
        "print('\\n',history.history['accuracy'][-1])"
      ],
      "execution_count": null,
      "outputs": [
        {
          "output_type": "stream",
          "text": [
            "Epoch 1/8\n",
            "1875/1875 [==============================] - 5s 2ms/step - loss: 0.6235 - accuracy: 0.7756 - val_loss: 0.4317 - val_accuracy: 0.8401\n",
            "Epoch 2/8\n",
            "1875/1875 [==============================] - 4s 2ms/step - loss: 0.3687 - accuracy: 0.8655 - val_loss: 0.3848 - val_accuracy: 0.8582\n",
            "Epoch 3/8\n",
            "1875/1875 [==============================] - 4s 2ms/step - loss: 0.3247 - accuracy: 0.8809 - val_loss: 0.3583 - val_accuracy: 0.8749\n",
            "Epoch 4/8\n",
            "1875/1875 [==============================] - 4s 2ms/step - loss: 0.3048 - accuracy: 0.8883 - val_loss: 0.3604 - val_accuracy: 0.8706\n",
            "Epoch 5/8\n",
            "1875/1875 [==============================] - 4s 2ms/step - loss: 0.2834 - accuracy: 0.8938 - val_loss: 0.3562 - val_accuracy: 0.8700\n",
            "Epoch 6/8\n",
            "1875/1875 [==============================] - 4s 2ms/step - loss: 0.2699 - accuracy: 0.8977 - val_loss: 0.3403 - val_accuracy: 0.8787\n",
            "Epoch 7/8\n",
            "1875/1875 [==============================] - 4s 2ms/step - loss: 0.2591 - accuracy: 0.9011 - val_loss: 0.3362 - val_accuracy: 0.8785\n",
            "Reached 90% accuracy so cancelling training!\n",
            "\n",
            " 0.9016666412353516\n"
          ],
          "name": "stdout"
        }
      ]
    }
  ]
}