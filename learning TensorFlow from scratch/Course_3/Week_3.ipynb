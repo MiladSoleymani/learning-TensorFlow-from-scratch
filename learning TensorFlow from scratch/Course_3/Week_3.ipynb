{
  "nbformat": 4,
  "nbformat_minor": 0,
  "metadata": {
    "colab": {
      "name": "Week_3.ipynb",
      "provenance": [],
      "collapsed_sections": [],
      "toc_visible": true
    },
    "kernelspec": {
      "name": "python3",
      "display_name": "Python 3"
    },
    "language_info": {
      "name": "python"
    }
  },
  "cells": [
    {
      "cell_type": "markdown",
      "metadata": {
        "id": "LjpTcjmi1Z3f"
      },
      "source": [
        "## Week 3"
      ]
    },
    {
      "cell_type": "markdown",
      "metadata": {
        "id": "YPFgQ3fX-D-K"
      },
      "source": [
        "**In the last couple of weeks you looked first at Tokenizing words to get numeric values from them, and then using Embeddings to group words of similar meaning depending on how they were labelled. This gave you a good, but rough, sentiment analysis -- words such as 'fun' and 'entertaining' might show up in a positive movie review, and 'boring' and 'dull' might show up in a negative one. But sentiment can also be determined by the sequence in which words appear. For example, you could have 'not fun', which of course is the opposite of 'fun'. This week you'll start digging into a variety of model formats that are used in training models to understand context in sequence!**\n",
        "\n",
        "\n",
        "---\n",
        "\n",
        "1.  **LSTM**\n",
        "\n",
        "    * Long Short-Term Memory layer - Hochreiter 1997.\n",
        "\n",
        "    * [Understanding LSTM Networks](https://colah.github.io/posts/2015-08-Understanding-LSTMs/) \n",
        "\n",
        "    * For more information on how to use LSTM, you can visit [here](https://keras.io/api/layers/recurrent_layers/lstm/).\n",
        "\n",
        "2. **GRU**\n",
        "\n",
        "    * Gated Recurrent Unit - Cho et al. 2014.\n",
        "\n",
        "    * [Understanding GRU Networks](https://towardsdatascience.com/understanding-gru-networks-2ef37df6c9be) \n",
        "\n",
        "    * For more information on how to use GRU, you can visit [here](https://keras.io/api/layers/recurrent_layers/gru/).\n",
        "\n",
        "\n",
        "3. **Conve1D**\n",
        "\n",
        "    * 1D convolution layer (e.g. temporal convolution).\n",
        "\n",
        "    * This layer creates a convolution kernel that is convolved with the layer input over a single spatial (or temporal) dimension to produce a tensor of outputs. If use_bias is True, a bias vector is created and added to the outputs. Finally, if activation is not None, it is applied to the outputs as well.\n",
        "\n",
        "    * When using this layer as the first layer in a model, provide an input_shape argument (tuple of integers or None, e.g. (10, 128) for sequences of 10 vectors of 128-dimensional vectors, or (None, 128) for variable-length sequences of 128-dimensional vectors.\n",
        "\n",
        "    * For more information on how to use Conve1D, you can visit [here](https://keras.io/api/layers/convolution_layers/convolution1d/).\n",
        "\n",
        "4. **tf.keras.layers.Bidirectional**\n",
        "\n",
        "    * You can go to [here](https://blog.paperspace.com/bidirectional-rnn-keras/) to understand how this layer works.\n",
        "\n",
        "    * You can also go [here](https://keras.io/api/layers/recurrent_layers/bidirectional/) for how to use this layer in Tensorflow."
      ]
    },
    {
      "cell_type": "markdown",
      "metadata": {
        "id": "HSJxnqto2MIh"
      },
      "source": [
        "### example_1 "
      ]
    },
    {
      "cell_type": "markdown",
      "metadata": {
        "id": "JT2XsLiEgrYW"
      },
      "source": [
        "IMDB Subwords 8K with Multi Layer LSTM"
      ]
    },
    {
      "cell_type": "code",
      "metadata": {
        "colab": {
          "base_uri": "https://localhost:8080/"
        },
        "id": "lX085tmI1cfR",
        "outputId": "938b3b96-853d-4aa6-c2aa-6539569e44df"
      },
      "source": [
        "from __future__ import absolute_import, division, print_function, unicode_literals\n",
        "\n",
        "import tensorflow_datasets as tfds\n",
        "import tensorflow as tf\n",
        "print(tf.__version__)"
      ],
      "execution_count": null,
      "outputs": [
        {
          "output_type": "stream",
          "text": [
            "2.5.0\n"
          ],
          "name": "stdout"
        }
      ]
    },
    {
      "cell_type": "code",
      "metadata": {
        "colab": {
          "base_uri": "https://localhost:8080/"
        },
        "id": "eMLJ-Qe62j9v",
        "outputId": "eb00298d-5eb2-41ac-d762-d708b0e8284b"
      },
      "source": [
        "import tensorflow_datasets as tfds\n",
        "import tensorflow as tf\n",
        "print(tf.__version__)"
      ],
      "execution_count": null,
      "outputs": [
        {
          "output_type": "stream",
          "text": [
            "2.5.0\n"
          ],
          "name": "stdout"
        }
      ]
    },
    {
      "cell_type": "code",
      "metadata": {
        "colab": {
          "base_uri": "https://localhost:8080/"
        },
        "id": "NHmqv5nT2l3r",
        "outputId": "51473b60-cad5-42d1-b5ca-3b27a1dc8854"
      },
      "source": [
        "dataset, info = tfds.load('imdb_reviews/subwords8k', with_info=True, as_supervised=True)\n",
        "train_dataset, test_dataset = dataset['train'], dataset['test']"
      ],
      "execution_count": null,
      "outputs": [
        {
          "output_type": "stream",
          "text": [
            "WARNING:absl:TFDS datasets with text encoding are deprecated and will be removed in a future version. Instead, you should use the plain text version and tokenize the text using `tensorflow_text` (See: https://www.tensorflow.org/tutorials/tensorflow_text/intro#tfdata_example)\n"
          ],
          "name": "stderr"
        }
      ]
    },
    {
      "cell_type": "code",
      "metadata": {
        "id": "E07pi_No4egu"
      },
      "source": [
        "BUFFER_SIZE = 10000\n",
        "BATCH_SIZE = 64\n",
        "\n",
        "train_dataset = train_dataset.shuffle(BUFFER_SIZE)"
      ],
      "execution_count": null,
      "outputs": []
    },
    {
      "cell_type": "code",
      "metadata": {
        "colab": {
          "base_uri": "https://localhost:8080/"
        },
        "id": "Q-_OGQGr4f-F",
        "outputId": "576cfcea-c531-422c-b0cc-5974fb8a48d1"
      },
      "source": [
        "train_dataset.list_files"
      ],
      "execution_count": null,
      "outputs": [
        {
          "output_type": "execute_result",
          "data": {
            "text/plain": [
              "<function tensorflow.python.data.ops.dataset_ops.DatasetV2.list_files>"
            ]
          },
          "metadata": {
            "tags": []
          },
          "execution_count": 45
        }
      ]
    },
    {
      "cell_type": "code",
      "metadata": {
        "id": "P2aMhqQp2nWI",
        "colab": {
          "base_uri": "https://localhost:8080/"
        },
        "outputId": "5f966f5d-a460-425d-dc5c-e4c33f6258fc"
      },
      "source": [
        "tokenizer = info.features['text'].encoder\n",
        "tokenizer"
      ],
      "execution_count": null,
      "outputs": [
        {
          "output_type": "execute_result",
          "data": {
            "text/plain": [
              "<SubwordTextEncoder vocab_size=8185>"
            ]
          },
          "metadata": {
            "tags": []
          },
          "execution_count": 46
        }
      ]
    },
    {
      "cell_type": "code",
      "metadata": {
        "id": "TNnxbqw52oqQ"
      },
      "source": [
        "train_dataset = train_dataset.shuffle(BUFFER_SIZE)\n",
        "train_dataset = train_dataset.padded_batch(BATCH_SIZE,  tf.compat.v1.data.get_output_shapes(train_dataset))\n",
        "test_dataset = test_dataset.padded_batch(BATCH_SIZE, tf.compat.v1.data.get_output_shapes(test_dataset))"
      ],
      "execution_count": null,
      "outputs": []
    },
    {
      "cell_type": "code",
      "metadata": {
        "id": "xGMTxCdM2qST"
      },
      "source": [
        "model = tf.keras.Sequential([\n",
        "    tf.keras.layers.Embedding(tokenizer.vocab_size, 64),\n",
        "    tf.keras.layers.Bidirectional(tf.keras.layers.LSTM(64, return_sequences=True)),\n",
        "    tf.keras.layers.Bidirectional(tf.keras.layers.LSTM(32)),\n",
        "    tf.keras.layers.Dense(64, activation='relu'),\n",
        "    tf.keras.layers.Dense(1, activation='sigmoid')\n",
        "])"
      ],
      "execution_count": null,
      "outputs": []
    },
    {
      "cell_type": "code",
      "metadata": {
        "id": "XigIFGxf2rou",
        "colab": {
          "base_uri": "https://localhost:8080/"
        },
        "outputId": "bde9c339-d18a-4adb-cc12-d7c1e358716a"
      },
      "source": [
        "model.summary()"
      ],
      "execution_count": null,
      "outputs": [
        {
          "output_type": "stream",
          "text": [
            "Model: \"sequential_3\"\n",
            "_________________________________________________________________\n",
            "Layer (type)                 Output Shape              Param #   \n",
            "=================================================================\n",
            "embedding_3 (Embedding)      (None, None, 64)          523840    \n",
            "_________________________________________________________________\n",
            "bidirectional (Bidirectional (None, None, 128)         66048     \n",
            "_________________________________________________________________\n",
            "bidirectional_1 (Bidirection (None, 64)                41216     \n",
            "_________________________________________________________________\n",
            "dense_6 (Dense)              (None, 64)                4160      \n",
            "_________________________________________________________________\n",
            "dense_7 (Dense)              (None, 1)                 65        \n",
            "=================================================================\n",
            "Total params: 635,329\n",
            "Trainable params: 635,329\n",
            "Non-trainable params: 0\n",
            "_________________________________________________________________\n"
          ],
          "name": "stdout"
        }
      ]
    },
    {
      "cell_type": "code",
      "metadata": {
        "id": "KPxQsMcn2tIr"
      },
      "source": [
        "model.compile(loss='binary_crossentropy', optimizer='adam', metrics=['accuracy'])"
      ],
      "execution_count": null,
      "outputs": []
    },
    {
      "cell_type": "code",
      "metadata": {
        "id": "QHMEMwEP2uj4",
        "colab": {
          "base_uri": "https://localhost:8080/"
        },
        "outputId": "33218df6-9c43-4c38-d071-7f128db49b85"
      },
      "source": [
        "NUM_EPOCHS = 10\n",
        "history = model.fit(train_dataset, epochs=NUM_EPOCHS, validation_data=test_dataset)"
      ],
      "execution_count": null,
      "outputs": [
        {
          "output_type": "stream",
          "text": [
            "Epoch 1/10\n",
            "391/391 [==============================] - 107s 250ms/step - loss: 0.5988 - accuracy: 0.6689 - val_loss: 0.5133 - val_accuracy: 0.7749\n",
            "Epoch 2/10\n",
            "391/391 [==============================] - 99s 251ms/step - loss: 0.4623 - accuracy: 0.7895 - val_loss: 0.6796 - val_accuracy: 0.6749\n",
            "Epoch 3/10\n",
            "391/391 [==============================] - 99s 251ms/step - loss: 0.5471 - accuracy: 0.7288 - val_loss: 0.6805 - val_accuracy: 0.6228\n",
            "Epoch 4/10\n",
            "391/391 [==============================] - 100s 254ms/step - loss: 0.4369 - accuracy: 0.8077 - val_loss: 0.4556 - val_accuracy: 0.8042\n",
            "Epoch 5/10\n",
            "391/391 [==============================] - 100s 253ms/step - loss: 0.3699 - accuracy: 0.8491 - val_loss: 0.5037 - val_accuracy: 0.7780\n",
            "Epoch 6/10\n",
            "391/391 [==============================] - 100s 253ms/step - loss: 0.3279 - accuracy: 0.8693 - val_loss: 0.5977 - val_accuracy: 0.7080\n",
            "Epoch 7/10\n",
            "391/391 [==============================] - 100s 253ms/step - loss: 0.3047 - accuracy: 0.8758 - val_loss: 0.4455 - val_accuracy: 0.8241\n",
            "Epoch 8/10\n",
            "391/391 [==============================] - 99s 251ms/step - loss: 0.2511 - accuracy: 0.9051 - val_loss: 0.4366 - val_accuracy: 0.8330\n",
            "Epoch 9/10\n",
            "391/391 [==============================] - 99s 249ms/step - loss: 0.2179 - accuracy: 0.9182 - val_loss: 0.4588 - val_accuracy: 0.8238\n",
            "Epoch 10/10\n",
            "391/391 [==============================] - 99s 252ms/step - loss: 0.1909 - accuracy: 0.9315 - val_loss: 0.4606 - val_accuracy: 0.8264\n"
          ],
          "name": "stdout"
        }
      ]
    },
    {
      "cell_type": "code",
      "metadata": {
        "id": "TzyeJukY2wK8"
      },
      "source": [
        "import matplotlib.pyplot as plt\n",
        "\n",
        "def plot_graphs(history, string):\n",
        "  plt.plot(history.history[string])\n",
        "  plt.plot(history.history['val_'+string])\n",
        "  plt.xlabel(\"Epochs\")\n",
        "  plt.ylabel(string)\n",
        "  plt.legend([string, 'val_'+string])\n",
        "  plt.show()"
      ],
      "execution_count": null,
      "outputs": []
    },
    {
      "cell_type": "code",
      "metadata": {
        "id": "dqh_b1ts2xpn",
        "colab": {
          "base_uri": "https://localhost:8080/",
          "height": 278
        },
        "outputId": "837dc4b1-e341-4e11-d1bc-5699e00bffcd"
      },
      "source": [
        "plot_graphs(history, 'accuracy')"
      ],
      "execution_count": null,
      "outputs": [
        {
          "output_type": "display_data",
          "data": {
            "image/png": "[encoded data removed]",
            "text/plain": [
              "<Figure size 432x288 with 1 Axes>"
            ]
          },
          "metadata": {
            "tags": [],
            "needs_background": "light"
          }
        }
      ]
    },
    {
      "cell_type": "code",
      "metadata": {
        "id": "AT9ZK4B-2y_1",
        "colab": {
          "base_uri": "https://localhost:8080/",
          "height": 281
        },
        "outputId": "78f26a11-019e-40ab-f448-b2733df3df95"
      },
      "source": [
        "plot_graphs(history, 'loss')"
      ],
      "execution_count": null,
      "outputs": [
        {
          "output_type": "display_data",
          "data": {
            "image/png": "[encoded data removed]",
            "text/plain": [
              "<Figure size 432x288 with 1 Axes>"
            ]
          },
          "metadata": {
            "tags": [],
            "needs_background": "light"
          }
        }
      ]
    },
    {
      "cell_type": "markdown",
      "metadata": {
        "id": "7wVQhN5n3EeE"
      },
      "source": [
        "### example_2 "
      ]
    },
    {
      "cell_type": "markdown",
      "metadata": {
        "id": "am6Zcoe2gxxo"
      },
      "source": [
        "IMDB Subwords 8K with Single Layer LSTM"
      ]
    },
    {
      "cell_type": "code",
      "metadata": {
        "id": "EtU_HafJ3LPv",
        "colab": {
          "base_uri": "https://localhost:8080/"
        },
        "outputId": "bf2e27bf-c1f2-488f-986a-36197a0147f9"
      },
      "source": [
        "from __future__ import absolute_import, division, print_function, unicode_literals\n",
        "\n",
        "\n",
        "import tensorflow_datasets as tfds\n",
        "import tensorflow as tf\n",
        "print(tf.__version__)"
      ],
      "execution_count": null,
      "outputs": [
        {
          "output_type": "stream",
          "text": [
            "2.5.0\n"
          ],
          "name": "stdout"
        }
      ]
    },
    {
      "cell_type": "code",
      "metadata": {
        "id": "nVov73F23aak",
        "colab": {
          "base_uri": "https://localhost:8080/"
        },
        "outputId": "06c140b8-8cd8-4093-a8dc-b59488ae39ff"
      },
      "source": [
        "import tensorflow_datasets as tfds\n",
        "import tensorflow as tf\n",
        "print(tf.__version__)"
      ],
      "execution_count": null,
      "outputs": [
        {
          "output_type": "stream",
          "text": [
            "2.5.0\n"
          ],
          "name": "stdout"
        }
      ]
    },
    {
      "cell_type": "code",
      "metadata": {
        "id": "QgtxxHf-3cIL",
        "colab": {
          "base_uri": "https://localhost:8080/"
        },
        "outputId": "c84a0989-090f-4e04-f8f4-f5e4a9654143"
      },
      "source": [
        "# Get the data\n",
        "dataset, info = tfds.load('imdb_reviews/subwords8k', with_info=True, as_supervised=True)\n",
        "train_dataset, test_dataset = dataset['train'], dataset['test']"
      ],
      "execution_count": null,
      "outputs": [
        {
          "output_type": "stream",
          "text": [
            "WARNING:absl:TFDS datasets with text encoding are deprecated and will be removed in a future version. Instead, you should use the plain text version and tokenize the text using `tensorflow_text` (See: https://www.tensorflow.org/tutorials/tensorflow_text/intro#tfdata_example)\n"
          ],
          "name": "stderr"
        }
      ]
    },
    {
      "cell_type": "code",
      "metadata": {
        "id": "H4sZhIZz3dX_"
      },
      "source": [
        "tokenizer = info.features['text'].encoder"
      ],
      "execution_count": null,
      "outputs": []
    },
    {
      "cell_type": "code",
      "metadata": {
        "id": "aIyR2eej3e9H"
      },
      "source": [
        "BUFFER_SIZE = 10000\n",
        "BATCH_SIZE = 64\n",
        "\n",
        "train_dataset = train_dataset.shuffle(BUFFER_SIZE)\n",
        "train_dataset = train_dataset.padded_batch(BATCH_SIZE, tf.compat.v1.data.get_output_shapes(train_dataset))\n",
        "test_dataset = test_dataset.padded_batch(BATCH_SIZE, tf.compat.v1.data.get_output_shapes(test_dataset))"
      ],
      "execution_count": null,
      "outputs": []
    },
    {
      "cell_type": "code",
      "metadata": {
        "id": "mMBCbo3C3gkc"
      },
      "source": [
        "model = tf.keras.Sequential([\n",
        "    tf.keras.layers.Embedding(tokenizer.vocab_size, 64),\n",
        "    tf.keras.layers.Bidirectional(tf.keras.layers.LSTM(64)),\n",
        "    tf.keras.layers.Dense(64, activation='relu'),\n",
        "    tf.keras.layers.Dense(1, activation='sigmoid')\n",
        "])"
      ],
      "execution_count": null,
      "outputs": []
    },
    {
      "cell_type": "code",
      "metadata": {
        "id": "R5XXWmoV3h9E",
        "colab": {
          "base_uri": "https://localhost:8080/"
        },
        "outputId": "6d9e657a-c468-4615-8e0c-1eb2df1774b1"
      },
      "source": [
        "model.summary()"
      ],
      "execution_count": null,
      "outputs": [
        {
          "output_type": "stream",
          "text": [
            "Model: \"sequential_4\"\n",
            "_________________________________________________________________\n",
            "Layer (type)                 Output Shape              Param #   \n",
            "=================================================================\n",
            "embedding_4 (Embedding)      (None, None, 64)          523840    \n",
            "_________________________________________________________________\n",
            "bidirectional_2 (Bidirection (None, 128)               66048     \n",
            "_________________________________________________________________\n",
            "dense_8 (Dense)              (None, 64)                8256      \n",
            "_________________________________________________________________\n",
            "dense_9 (Dense)              (None, 1)                 65        \n",
            "=================================================================\n",
            "Total params: 598,209\n",
            "Trainable params: 598,209\n",
            "Non-trainable params: 0\n",
            "_________________________________________________________________\n"
          ],
          "name": "stdout"
        }
      ]
    },
    {
      "cell_type": "code",
      "metadata": {
        "id": "ofdIbwTi3j3-"
      },
      "source": [
        "model.compile(loss='binary_crossentropy', optimizer='adam', metrics=['accuracy'])"
      ],
      "execution_count": null,
      "outputs": []
    },
    {
      "cell_type": "code",
      "metadata": {
        "id": "2YhE2RjB3liP",
        "colab": {
          "base_uri": "https://localhost:8080/"
        },
        "outputId": "ae810215-a036-4238-dcab-83c7e0572d65"
      },
      "source": [
        "NUM_EPOCHS = 10\n",
        "history = model.fit(train_dataset, epochs=NUM_EPOCHS, validation_data=test_dataset)"
      ],
      "execution_count": null,
      "outputs": [
        {
          "output_type": "stream",
          "text": [
            "Epoch 1/10\n",
            "391/391 [==============================] - 57s 138ms/step - loss: 0.6044 - accuracy: 0.6546 - val_loss: 0.6140 - val_accuracy: 0.6604\n",
            "Epoch 2/10\n",
            "391/391 [==============================] - 54s 137ms/step - loss: 0.4562 - accuracy: 0.7930 - val_loss: 0.4634 - val_accuracy: 0.7999\n",
            "Epoch 3/10\n",
            "391/391 [==============================] - 54s 137ms/step - loss: 0.3327 - accuracy: 0.8676 - val_loss: 0.4992 - val_accuracy: 0.7735\n",
            "Epoch 4/10\n",
            "391/391 [==============================] - 54s 138ms/step - loss: 0.2780 - accuracy: 0.8924 - val_loss: 0.3927 - val_accuracy: 0.8358\n",
            "Epoch 5/10\n",
            "391/391 [==============================] - 54s 137ms/step - loss: 0.2172 - accuracy: 0.9195 - val_loss: 0.4321 - val_accuracy: 0.8288\n",
            "Epoch 6/10\n",
            "391/391 [==============================] - 54s 137ms/step - loss: 0.2189 - accuracy: 0.9189 - val_loss: 0.6933 - val_accuracy: 0.6927\n",
            "Epoch 7/10\n",
            "391/391 [==============================] - 55s 140ms/step - loss: 0.2188 - accuracy: 0.9141 - val_loss: 0.5287 - val_accuracy: 0.8312\n",
            "Epoch 8/10\n",
            "391/391 [==============================] - 55s 139ms/step - loss: 0.1412 - accuracy: 0.9522 - val_loss: 0.5219 - val_accuracy: 0.8150\n",
            "Epoch 9/10\n",
            "391/391 [==============================] - 55s 139ms/step - loss: 0.3988 - accuracy: 0.8158 - val_loss: 0.5977 - val_accuracy: 0.7679\n",
            "Epoch 10/10\n",
            "391/391 [==============================] - 55s 139ms/step - loss: 0.2132 - accuracy: 0.9188 - val_loss: 0.5647 - val_accuracy: 0.8222\n"
          ],
          "name": "stdout"
        }
      ]
    },
    {
      "cell_type": "code",
      "metadata": {
        "id": "3XryAKoy3nBN",
        "colab": {
          "base_uri": "https://localhost:8080/",
          "height": 541
        },
        "outputId": "3c34a229-d7c5-44bf-cec2-75109a20790e"
      },
      "source": [
        "import matplotlib.pyplot as plt\n",
        "\n",
        "def plot_graphs(history, string):\n",
        "  plt.plot(history.history[string])\n",
        "  plt.plot(history.history['val_'+string])\n",
        "  plt.xlabel(\"Epochs\")\n",
        "  plt.ylabel(string)\n",
        "  plt.legend([string, 'val_'+string])\n",
        "  plt.show()\n",
        "\n",
        "plot_graphs(history, 'accuracy')\n",
        "plot_graphs(history, 'loss')"
      ],
      "execution_count": null,
      "outputs": [
        {
          "output_type": "display_data",
          "data": {
            "image/png": "[encoded data removed]",
            "text/plain": [
              "<Figure size 432x288 with 1 Axes>"
            ]
          },
          "metadata": {
            "tags": [],
            "needs_background": "light"
          }
        },
        {
          "output_type": "display_data",
          "data": {
            "image/png": "[encoded data removed]",
            "text/plain": [
              "<Figure size 432x288 with 1 Axes>"
            ]
          },
          "metadata": {
            "tags": [],
            "needs_background": "light"
          }
        }
      ]
    },
    {
      "cell_type": "markdown",
      "metadata": {
        "id": "Z9fbp_G3g9hX"
      },
      "source": [
        "### example_3"
      ]
    },
    {
      "cell_type": "markdown",
      "metadata": {
        "id": "X1qHFsf-hATN"
      },
      "source": [
        "IMDB Subwords 8K with Single Layer Conv1D"
      ]
    },
    {
      "cell_type": "code",
      "metadata": {
        "colab": {
          "base_uri": "https://localhost:8080/"
        },
        "id": "6K3YqjLRhDGj",
        "outputId": "9d2b88db-eba5-431e-99f0-709030a663b3"
      },
      "source": [
        "from __future__ import absolute_import, division, print_function, unicode_literals\n",
        "\n",
        "\n",
        "import tensorflow_datasets as tfds\n",
        "import tensorflow as tf\n",
        "print(tf.__version__)"
      ],
      "execution_count": null,
      "outputs": [
        {
          "output_type": "stream",
          "text": [
            "2.5.0\n"
          ],
          "name": "stdout"
        }
      ]
    },
    {
      "cell_type": "code",
      "metadata": {
        "colab": {
          "base_uri": "https://localhost:8080/"
        },
        "id": "o_uFNwPRhFlf",
        "outputId": "4685c970-3537-4d83-d586-c63c2376e44e"
      },
      "source": [
        "import tensorflow_datasets as tfds\n",
        "import tensorflow as tf\n",
        "print(tf.__version__)"
      ],
      "execution_count": null,
      "outputs": [
        {
          "output_type": "stream",
          "text": [
            "2.5.0\n"
          ],
          "name": "stdout"
        }
      ]
    },
    {
      "cell_type": "code",
      "metadata": {
        "colab": {
          "base_uri": "https://localhost:8080/"
        },
        "id": "xucn0SFGhHft",
        "outputId": "104cdb0b-eaf4-49cf-cf2f-0843fa7734d3"
      },
      "source": [
        "# Get the data\n",
        "dataset, info = tfds.load('imdb_reviews/subwords8k', with_info=True, as_supervised=True)\n",
        "train_dataset, test_dataset = dataset['train'], dataset['test']"
      ],
      "execution_count": null,
      "outputs": [
        {
          "output_type": "stream",
          "text": [
            "WARNING:absl:TFDS datasets with text encoding are deprecated and will be removed in a future version. Instead, you should use the plain text version and tokenize the text using `tensorflow_text` (See: https://www.tensorflow.org/tutorials/tensorflow_text/intro#tfdata_example)\n"
          ],
          "name": "stderr"
        }
      ]
    },
    {
      "cell_type": "code",
      "metadata": {
        "id": "GE-l0wYHhJPD"
      },
      "source": [
        "tokenizer = info.features['text'].encoder"
      ],
      "execution_count": null,
      "outputs": []
    },
    {
      "cell_type": "code",
      "metadata": {
        "id": "hv16czUDhK-F"
      },
      "source": [
        "BUFFER_SIZE = 10000\n",
        "BATCH_SIZE = 64\n",
        "\n",
        "train_dataset = train_dataset.shuffle(BUFFER_SIZE)\n",
        "train_dataset = train_dataset.padded_batch(BATCH_SIZE, tf.compat.v1.data.get_output_shapes(train_dataset))\n",
        "test_dataset = test_dataset.padded_batch(BATCH_SIZE, tf.compat.v1.data.get_output_shapes(test_dataset))"
      ],
      "execution_count": null,
      "outputs": []
    },
    {
      "cell_type": "code",
      "metadata": {
        "id": "dscBRiZ5hR0r"
      },
      "source": [
        "model = tf.keras.Sequential([\n",
        "    tf.keras.layers.Embedding(tokenizer.vocab_size, 64),\n",
        "    tf.keras.layers.Conv1D(128, 5, activation='relu'),\n",
        "    tf.keras.layers.GlobalAveragePooling1D(),\n",
        "    tf.keras.layers.Dense(64, activation='relu'),\n",
        "    tf.keras.layers.Dense(1, activation='sigmoid')\n",
        "])"
      ],
      "execution_count": null,
      "outputs": []
    },
    {
      "cell_type": "code",
      "metadata": {
        "colab": {
          "base_uri": "https://localhost:8080/"
        },
        "id": "xaBGh3ddhU06",
        "outputId": "e4b7808a-f2b2-4bc1-8cf6-85ee43e87417"
      },
      "source": [
        "model.summary()"
      ],
      "execution_count": null,
      "outputs": [
        {
          "output_type": "stream",
          "text": [
            "Model: \"sequential_5\"\n",
            "_________________________________________________________________\n",
            "Layer (type)                 Output Shape              Param #   \n",
            "=================================================================\n",
            "embedding_5 (Embedding)      (None, None, 64)          523840    \n",
            "_________________________________________________________________\n",
            "conv1d (Conv1D)              (None, None, 128)         41088     \n",
            "_________________________________________________________________\n",
            "global_average_pooling1d_2 ( (None, 128)               0         \n",
            "_________________________________________________________________\n",
            "dense_10 (Dense)             (None, 64)                8256      \n",
            "_________________________________________________________________\n",
            "dense_11 (Dense)             (None, 1)                 65        \n",
            "=================================================================\n",
            "Total params: 573,249\n",
            "Trainable params: 573,249\n",
            "Non-trainable params: 0\n",
            "_________________________________________________________________\n"
          ],
          "name": "stdout"
        }
      ]
    },
    {
      "cell_type": "code",
      "metadata": {
        "id": "TyJ4uISchWmQ"
      },
      "source": [
        "model.compile(loss='binary_crossentropy', optimizer='adam', metrics=['accuracy'])"
      ],
      "execution_count": null,
      "outputs": []
    },
    {
      "cell_type": "code",
      "metadata": {
        "colab": {
          "base_uri": "https://localhost:8080/"
        },
        "id": "irNrtX4VhYOj",
        "outputId": "135678b5-c733-4851-e773-b9cd632825b6"
      },
      "source": [
        "NUM_EPOCHS = 10\n",
        "history = model.fit(train_dataset, epochs=NUM_EPOCHS, validation_data=test_dataset)"
      ],
      "execution_count": null,
      "outputs": [
        {
          "output_type": "stream",
          "text": [
            "Epoch 1/10\n",
            "391/391 [==============================] - 67s 101ms/step - loss: 0.4449 - accuracy: 0.7856 - val_loss: 0.3109 - val_accuracy: 0.8780\n",
            "Epoch 2/10\n",
            "391/391 [==============================] - 21s 52ms/step - loss: 0.2281 - accuracy: 0.9165 - val_loss: 0.3083 - val_accuracy: 0.8797\n",
            "Epoch 3/10\n",
            "391/391 [==============================] - 18s 43ms/step - loss: 0.1708 - accuracy: 0.9400 - val_loss: 0.3278 - val_accuracy: 0.8745\n",
            "Epoch 4/10\n",
            "391/391 [==============================] - 18s 43ms/step - loss: 0.1356 - accuracy: 0.9519 - val_loss: 0.3752 - val_accuracy: 0.8694\n",
            "Epoch 5/10\n",
            "391/391 [==============================] - 17s 41ms/step - loss: 0.1118 - accuracy: 0.9622 - val_loss: 0.4132 - val_accuracy: 0.8656\n",
            "Epoch 6/10\n",
            "391/391 [==============================] - 17s 41ms/step - loss: 0.0905 - accuracy: 0.9707 - val_loss: 0.4993 - val_accuracy: 0.8570\n",
            "Epoch 7/10\n",
            "391/391 [==============================] - 16s 40ms/step - loss: 0.0694 - accuracy: 0.9777 - val_loss: 0.6180 - val_accuracy: 0.8552\n",
            "Epoch 8/10\n",
            "391/391 [==============================] - 16s 39ms/step - loss: 0.0533 - accuracy: 0.9832 - val_loss: 0.6919 - val_accuracy: 0.8504\n",
            "Epoch 9/10\n",
            "391/391 [==============================] - 16s 39ms/step - loss: 0.0481 - accuracy: 0.9853 - val_loss: 0.6850 - val_accuracy: 0.8550\n",
            "Epoch 10/10\n",
            "391/391 [==============================] - 16s 39ms/step - loss: 0.0343 - accuracy: 0.9899 - val_loss: 0.7524 - val_accuracy: 0.8541\n"
          ],
          "name": "stdout"
        }
      ]
    },
    {
      "cell_type": "code",
      "metadata": {
        "id": "7lEtyzaphZ4_"
      },
      "source": [
        "import matplotlib.pyplot as plt\n",
        "\n",
        "def plot_graphs(history, string):\n",
        "  plt.plot(history.history[string])\n",
        "  plt.plot(history.history['val_'+string])\n",
        "  plt.xlabel(\"Epochs\")\n",
        "  plt.ylabel(string)\n",
        "  plt.legend([string, 'val_'+string])\n",
        "  plt.show()"
      ],
      "execution_count": null,
      "outputs": []
    },
    {
      "cell_type": "code",
      "metadata": {
        "colab": {
          "base_uri": "https://localhost:8080/",
          "height": 283
        },
        "id": "zs4nZ-0dhcNL",
        "outputId": "d2f20637-6cd1-46d0-b9de-3829ffb923b6"
      },
      "source": [
        "plot_graphs(history, 'accuracy')"
      ],
      "execution_count": null,
      "outputs": [
        {
          "output_type": "display_data",
          "data": {
            "image/png": "[encoded data removed]",
            "text/plain": [
              "<Figure size 432x288 with 1 Axes>"
            ]
          },
          "metadata": {
            "tags": [],
            "needs_background": "light"
          }
        }
      ]
    },
    {
      "cell_type": "code",
      "metadata": {
        "colab": {
          "base_uri": "https://localhost:8080/",
          "height": 278
        },
        "id": "QH2PnS_dheRA",
        "outputId": "016e02bf-aa93-4b9a-fceb-7f0c185c957f"
      },
      "source": [
        "plot_graphs(history, 'loss')"
      ],
      "execution_count": null,
      "outputs": [
        {
          "output_type": "display_data",
          "data": {
            "image/png": "[encoded data removed]",
            "text/plain": [
              "<Figure size 432x288 with 1 Axes>"
            ]
          },
          "metadata": {
            "tags": [],
            "needs_background": "light"
          }
        }
      ]
    },
    {
      "cell_type": "markdown",
      "metadata": {
        "id": "H305a44shx02"
      },
      "source": [
        "### example_4"
      ]
    },
    {
      "cell_type": "markdown",
      "metadata": {
        "id": "hXAZh-cmicgr"
      },
      "source": [
        "comparison between **Bidirectional(tf.keras.layers.GRU(32))** and **Bidirectional(tf.keras.layers.LSTM(32))** and **Conv1D(128, 5, activation='relu')**"
      ]
    },
    {
      "cell_type": "code",
      "metadata": {
        "colab": {
          "base_uri": "https://localhost:8080/"
        },
        "id": "aRV_iFVLhc1y",
        "outputId": "533c51f2-9c6d-44b8-9132-517da76421e9"
      },
      "source": [
        "import tensorflow as tf\n",
        "print(tf.__version__)\n",
        "\n",
        "# !pip install -q tensorflow-datasets"
      ],
      "execution_count": null,
      "outputs": [
        {
          "output_type": "stream",
          "text": [
            "2.5.0\n"
          ],
          "name": "stdout"
        }
      ]
    },
    {
      "cell_type": "code",
      "metadata": {
        "id": "AhYgyHHHh7bj"
      },
      "source": [
        "import tensorflow_datasets as tfds\n",
        "imdb, info = tfds.load(\"imdb_reviews\", with_info=True, as_supervised=True)"
      ],
      "execution_count": null,
      "outputs": []
    },
    {
      "cell_type": "code",
      "metadata": {
        "id": "DsmmMfGlh9gl"
      },
      "source": [
        "import numpy as np\n",
        "\n",
        "train_data, test_data = imdb['train'], imdb['test']\n",
        "\n",
        "training_sentences = []\n",
        "training_labels = []\n",
        "\n",
        "testing_sentences = []\n",
        "testing_labels = []\n",
        "\n",
        "# str(s.tonumpy()) is needed in Python3 instead of just s.numpy()\n",
        "for s,l in train_data:\n",
        "  training_sentences.append(str(s.numpy()))\n",
        "  training_labels.append(l.numpy())\n",
        "  \n",
        "for s,l in test_data:\n",
        "  testing_sentences.append(str(s.numpy()))\n",
        "  testing_labels.append(l.numpy())\n",
        "  \n",
        "training_labels_final = np.array(training_labels)\n",
        "testing_labels_final = np.array(testing_labels)"
      ],
      "execution_count": null,
      "outputs": []
    },
    {
      "cell_type": "code",
      "metadata": {
        "id": "p4ixgaLIh_mG"
      },
      "source": [
        "vocab_size = 10000\n",
        "embedding_dim = 16\n",
        "max_length = 120\n",
        "trunc_type='post'\n",
        "oov_tok = \"<OOV>\"\n",
        "\n",
        "\n",
        "from tensorflow.keras.preprocessing.text import Tokenizer\n",
        "from tensorflow.keras.preprocessing.sequence import pad_sequences\n",
        "\n",
        "tokenizer = Tokenizer(num_words = vocab_size, oov_token=oov_tok)\n",
        "tokenizer.fit_on_texts(training_sentences)\n",
        "word_index = tokenizer.word_index\n",
        "sequences = tokenizer.texts_to_sequences(training_sentences)\n",
        "padded = pad_sequences(sequences,maxlen=max_length, truncating=trunc_type)\n",
        "\n",
        "testing_sequences = tokenizer.texts_to_sequences(testing_sentences)\n",
        "testing_padded = pad_sequences(testing_sequences,maxlen=max_length)"
      ],
      "execution_count": null,
      "outputs": []
    },
    {
      "cell_type": "code",
      "metadata": {
        "colab": {
          "base_uri": "https://localhost:8080/"
        },
        "id": "GGO2Gf_-iBMI",
        "outputId": "67f1e26e-b4e6-4125-9c8b-e23132622afc"
      },
      "source": [
        "reverse_word_index = dict([(value, key) for (key, value) in word_index.items()])\n",
        "\n",
        "def decode_review(text):\n",
        "    return ' '.join([reverse_word_index.get(i, '?') for i in text])\n",
        "\n",
        "print(decode_review(padded[1]))\n",
        "print(training_sentences[1])"
      ],
      "execution_count": null,
      "outputs": [
        {
          "output_type": "stream",
          "text": [
            "? ? ? ? ? ? ? b'i have been known to fall asleep during films but this is usually due to a combination of things including really tired being warm and comfortable on the <OOV> and having just eaten a lot however on this occasion i fell asleep because the film was rubbish the plot development was constant constantly slow and boring things seemed to happen but with no explanation of what was causing them or why i admit i may have missed part of the film but i watched the majority of it and everything just seemed to happen of its own <OOV> without any real concern for anything else i cant recommend this film at all '\n",
            "b'I have been known to fall asleep during films, but this is usually due to a combination of things including, really tired, being warm and comfortable on the sette and having just eaten a lot. However on this occasion I fell asleep because the film was rubbish. The plot development was constant. Constantly slow and boring. Things seemed to happen, but with no explanation of what was causing them or why. I admit, I may have missed part of the film, but i watched the majority of it and everything just seemed to happen of its own accord without any real concern for anything else. I cant recommend this film at all.'\n"
          ],
          "name": "stdout"
        }
      ]
    },
    {
      "cell_type": "code",
      "metadata": {
        "colab": {
          "base_uri": "https://localhost:8080/"
        },
        "id": "M0VuqzkqiEKQ",
        "outputId": "9dae319e-026e-4ecb-bd87-93a27f37c733"
      },
      "source": [
        "model = tf.keras.Sequential([\n",
        "    tf.keras.layers.Embedding(vocab_size, embedding_dim, input_length=max_length),\n",
        "    tf.keras.layers.Bidirectional(tf.keras.layers.GRU(32)),\n",
        "    tf.keras.layers.Dense(6, activation='relu'),\n",
        "    tf.keras.layers.Dense(1, activation='sigmoid')\n",
        "])\n",
        "model.compile(loss='binary_crossentropy',optimizer='adam',metrics=['accuracy'])\n",
        "model.summary()\n"
      ],
      "execution_count": null,
      "outputs": [
        {
          "output_type": "stream",
          "text": [
            "Model: \"sequential_6\"\n",
            "_________________________________________________________________\n",
            "Layer (type)                 Output Shape              Param #   \n",
            "=================================================================\n",
            "embedding_6 (Embedding)      (None, 120, 16)           160000    \n",
            "_________________________________________________________________\n",
            "bidirectional_3 (Bidirection (None, 64)                9600      \n",
            "_________________________________________________________________\n",
            "dense_12 (Dense)             (None, 6)                 390       \n",
            "_________________________________________________________________\n",
            "dense_13 (Dense)             (None, 1)                 7         \n",
            "=================================================================\n",
            "Total params: 169,997\n",
            "Trainable params: 169,997\n",
            "Non-trainable params: 0\n",
            "_________________________________________________________________\n"
          ],
          "name": "stdout"
        }
      ]
    },
    {
      "cell_type": "code",
      "metadata": {
        "colab": {
          "base_uri": "https://localhost:8080/"
        },
        "id": "t93xNmkviGha",
        "outputId": "c4d29b69-6cb2-45f8-f868-fb527ac3209b"
      },
      "source": [
        "num_epochs = 50\n",
        "history = model.fit(padded, training_labels_final, epochs=num_epochs, validation_data=(testing_padded, testing_labels_final))"
      ],
      "execution_count": null,
      "outputs": [
        {
          "output_type": "stream",
          "text": [
            "Epoch 1/50\n",
            "782/782 [==============================] - 16s 18ms/step - loss: 0.5220 - accuracy: 0.7124 - val_loss: 0.3622 - val_accuracy: 0.8382\n",
            "Epoch 2/50\n",
            "782/782 [==============================] - 13s 17ms/step - loss: 0.3011 - accuracy: 0.8780 - val_loss: 0.3588 - val_accuracy: 0.8432\n",
            "Epoch 3/50\n",
            "782/782 [==============================] - 13s 17ms/step - loss: 0.2382 - accuracy: 0.9089 - val_loss: 0.3718 - val_accuracy: 0.8394\n",
            "Epoch 4/50\n",
            "782/782 [==============================] - 13s 17ms/step - loss: 0.1818 - accuracy: 0.9328 - val_loss: 0.4317 - val_accuracy: 0.8340\n",
            "Epoch 5/50\n",
            "782/782 [==============================] - 13s 17ms/step - loss: 0.1340 - accuracy: 0.9535 - val_loss: 0.4729 - val_accuracy: 0.8203\n",
            "Epoch 6/50\n",
            "782/782 [==============================] - 13s 17ms/step - loss: 0.0962 - accuracy: 0.9668 - val_loss: 0.5584 - val_accuracy: 0.8274\n",
            "Epoch 7/50\n",
            "782/782 [==============================] - 13s 17ms/step - loss: 0.0617 - accuracy: 0.9794 - val_loss: 0.6904 - val_accuracy: 0.8208\n",
            "Epoch 8/50\n",
            "782/782 [==============================] - 13s 17ms/step - loss: 0.0436 - accuracy: 0.9854 - val_loss: 0.7611 - val_accuracy: 0.8187\n",
            "Epoch 9/50\n",
            "782/782 [==============================] - 13s 17ms/step - loss: 0.0282 - accuracy: 0.9905 - val_loss: 0.9304 - val_accuracy: 0.8177\n",
            "Epoch 10/50\n",
            "782/782 [==============================] - 13s 17ms/step - loss: 0.0192 - accuracy: 0.9934 - val_loss: 1.0641 - val_accuracy: 0.8160\n",
            "Epoch 11/50\n",
            "782/782 [==============================] - 13s 17ms/step - loss: 0.0193 - accuracy: 0.9938 - val_loss: 1.0160 - val_accuracy: 0.8083\n",
            "Epoch 12/50\n",
            "782/782 [==============================] - 13s 17ms/step - loss: 0.0134 - accuracy: 0.9951 - val_loss: 1.0388 - val_accuracy: 0.8102\n",
            "Epoch 13/50\n",
            "782/782 [==============================] - 13s 16ms/step - loss: 0.0164 - accuracy: 0.9942 - val_loss: 1.1803 - val_accuracy: 0.8062\n",
            "Epoch 14/50\n",
            "782/782 [==============================] - 13s 16ms/step - loss: 0.0104 - accuracy: 0.9963 - val_loss: 1.2368 - val_accuracy: 0.8090\n",
            "Epoch 15/50\n",
            "782/782 [==============================] - 13s 17ms/step - loss: 0.0105 - accuracy: 0.9962 - val_loss: 1.1460 - val_accuracy: 0.8018\n",
            "Epoch 16/50\n",
            "782/782 [==============================] - 13s 17ms/step - loss: 0.0097 - accuracy: 0.9970 - val_loss: 1.2063 - val_accuracy: 0.8055\n",
            "Epoch 17/50\n",
            "782/782 [==============================] - 13s 17ms/step - loss: 0.0080 - accuracy: 0.9970 - val_loss: 1.3770 - val_accuracy: 0.8100\n",
            "Epoch 18/50\n",
            "782/782 [==============================] - 13s 17ms/step - loss: 0.0093 - accuracy: 0.9968 - val_loss: 1.2443 - val_accuracy: 0.8096\n",
            "Epoch 19/50\n",
            "782/782 [==============================] - 13s 17ms/step - loss: 0.0073 - accuracy: 0.9975 - val_loss: 1.3181 - val_accuracy: 0.8100\n",
            "Epoch 20/50\n",
            "782/782 [==============================] - 13s 17ms/step - loss: 0.0071 - accuracy: 0.9976 - val_loss: 1.3027 - val_accuracy: 0.7985\n",
            "Epoch 21/50\n",
            "782/782 [==============================] - 13s 17ms/step - loss: 0.0046 - accuracy: 0.9986 - val_loss: 1.3669 - val_accuracy: 0.8054\n",
            "Epoch 22/50\n",
            "782/782 [==============================] - 13s 17ms/step - loss: 0.0041 - accuracy: 0.9984 - val_loss: 1.6044 - val_accuracy: 0.8044\n",
            "Epoch 23/50\n",
            "782/782 [==============================] - 13s 17ms/step - loss: 0.0067 - accuracy: 0.9980 - val_loss: 1.4926 - val_accuracy: 0.8010\n",
            "Epoch 24/50\n",
            "782/782 [==============================] - 13s 17ms/step - loss: 0.0034 - accuracy: 0.9990 - val_loss: 1.3791 - val_accuracy: 0.8087\n",
            "Epoch 25/50\n",
            "782/782 [==============================] - 13s 17ms/step - loss: 0.0057 - accuracy: 0.9978 - val_loss: 1.5735 - val_accuracy: 0.8084\n",
            "Epoch 26/50\n",
            "782/782 [==============================] - 13s 17ms/step - loss: 0.0037 - accuracy: 0.9987 - val_loss: 1.4530 - val_accuracy: 0.8090\n",
            "Epoch 27/50\n",
            "782/782 [==============================] - 13s 17ms/step - loss: 0.0045 - accuracy: 0.9986 - val_loss: 1.4979 - val_accuracy: 0.8132\n",
            "Epoch 28/50\n",
            "782/782 [==============================] - 13s 17ms/step - loss: 0.0039 - accuracy: 0.9988 - val_loss: 1.5027 - val_accuracy: 0.8060\n",
            "Epoch 29/50\n",
            "782/782 [==============================] - 13s 17ms/step - loss: 0.0053 - accuracy: 0.9983 - val_loss: 1.5745 - val_accuracy: 0.8095\n",
            "Epoch 30/50\n",
            "782/782 [==============================] - 13s 17ms/step - loss: 0.0036 - accuracy: 0.9988 - val_loss: 1.4922 - val_accuracy: 0.8078\n",
            "Epoch 31/50\n",
            "782/782 [==============================] - 13s 17ms/step - loss: 0.0025 - accuracy: 0.9992 - val_loss: 1.5961 - val_accuracy: 0.8047\n",
            "Epoch 32/50\n",
            "782/782 [==============================] - 13s 17ms/step - loss: 9.5926e-04 - accuracy: 0.9996 - val_loss: 1.6486 - val_accuracy: 0.8091\n",
            "Epoch 33/50\n",
            "782/782 [==============================] - 13s 17ms/step - loss: 0.0066 - accuracy: 0.9975 - val_loss: 1.5700 - val_accuracy: 0.8014\n",
            "Epoch 34/50\n",
            "782/782 [==============================] - 13s 17ms/step - loss: 0.0042 - accuracy: 0.9986 - val_loss: 1.3989 - val_accuracy: 0.8071\n",
            "Epoch 35/50\n",
            "782/782 [==============================] - 13s 17ms/step - loss: 0.0023 - accuracy: 0.9991 - val_loss: 1.6564 - val_accuracy: 0.8099\n",
            "Epoch 36/50\n",
            "782/782 [==============================] - 13s 17ms/step - loss: 0.0016 - accuracy: 0.9995 - val_loss: 1.6107 - val_accuracy: 0.8126\n",
            "Epoch 37/50\n",
            "782/782 [==============================] - 13s 17ms/step - loss: 6.6487e-05 - accuracy: 1.0000 - val_loss: 1.6452 - val_accuracy: 0.8109\n",
            "Epoch 38/50\n",
            "782/782 [==============================] - 13s 17ms/step - loss: 2.0711e-05 - accuracy: 1.0000 - val_loss: 1.6837 - val_accuracy: 0.8114\n",
            "Epoch 39/50\n",
            "782/782 [==============================] - 13s 17ms/step - loss: 1.3813e-05 - accuracy: 1.0000 - val_loss: 1.7246 - val_accuracy: 0.8117\n",
            "Epoch 40/50\n",
            "782/782 [==============================] - 13s 17ms/step - loss: 9.8843e-06 - accuracy: 1.0000 - val_loss: 1.7716 - val_accuracy: 0.8121\n",
            "Epoch 41/50\n",
            "782/782 [==============================] - 15s 19ms/step - loss: 7.0403e-06 - accuracy: 1.0000 - val_loss: 1.8157 - val_accuracy: 0.8122\n",
            "Epoch 42/50\n",
            "782/782 [==============================] - 13s 17ms/step - loss: 4.9451e-06 - accuracy: 1.0000 - val_loss: 1.8642 - val_accuracy: 0.8126\n",
            "Epoch 43/50\n",
            "782/782 [==============================] - 13s 17ms/step - loss: 3.4140e-06 - accuracy: 1.0000 - val_loss: 1.9156 - val_accuracy: 0.8130\n",
            "Epoch 44/50\n",
            "782/782 [==============================] - 13s 17ms/step - loss: 2.3377e-06 - accuracy: 1.0000 - val_loss: 1.9678 - val_accuracy: 0.8131\n",
            "Epoch 45/50\n",
            "782/782 [==============================] - 13s 17ms/step - loss: 1.5788e-06 - accuracy: 1.0000 - val_loss: 2.0222 - val_accuracy: 0.8137\n",
            "Epoch 46/50\n",
            "782/782 [==============================] - 13s 17ms/step - loss: 1.0575e-06 - accuracy: 1.0000 - val_loss: 2.0797 - val_accuracy: 0.8140\n",
            "Epoch 47/50\n",
            "782/782 [==============================] - 13s 17ms/step - loss: 7.0560e-07 - accuracy: 1.0000 - val_loss: 2.1378 - val_accuracy: 0.8147\n",
            "Epoch 48/50\n",
            "782/782 [==============================] - 13s 17ms/step - loss: 4.7117e-07 - accuracy: 1.0000 - val_loss: 2.1977 - val_accuracy: 0.8143\n",
            "Epoch 49/50\n",
            "782/782 [==============================] - 13s 17ms/step - loss: 3.1390e-07 - accuracy: 1.0000 - val_loss: 2.2532 - val_accuracy: 0.8145\n",
            "Epoch 50/50\n",
            "782/782 [==============================] - 13s 17ms/step - loss: 2.0884e-07 - accuracy: 1.0000 - val_loss: 2.3116 - val_accuracy: 0.8146\n"
          ],
          "name": "stdout"
        }
      ]
    },
    {
      "cell_type": "code",
      "metadata": {
        "colab": {
          "base_uri": "https://localhost:8080/",
          "height": 541
        },
        "id": "Ojvv2iFIiIAY",
        "outputId": "bab94f49-4e8f-4c5a-9271-53cf61150b93"
      },
      "source": [
        "import matplotlib.pyplot as plt\n",
        "\n",
        "def plot_graphs(history, string):\n",
        "  plt.plot(history.history[string])\n",
        "  plt.plot(history.history['val_'+string])\n",
        "  plt.xlabel(\"Epochs\")\n",
        "  plt.ylabel(string)\n",
        "  plt.legend([string, 'val_'+string])\n",
        "  plt.show()\n",
        "\n",
        "plot_graphs(history, 'accuracy')\n",
        "plot_graphs(history, 'loss')"
      ],
      "execution_count": null,
      "outputs": [
        {
          "output_type": "display_data",
          "data": {
            "image/png": "[encoded data removed]",
            "text/plain": [
              "<Figure size 432x288 with 1 Axes>"
            ]
          },
          "metadata": {
            "tags": [],
            "needs_background": "light"
          }
        },
        {
          "output_type": "display_data",
          "data": {
            "image/png": "[encoded data removed]",
            "text/plain": [
              "<Figure size 432x288 with 1 Axes>"
            ]
          },
          "metadata": {
            "tags": [],
            "needs_background": "light"
          }
        }
      ]
    },
    {
      "cell_type": "code",
      "metadata": {
        "colab": {
          "base_uri": "https://localhost:8080/"
        },
        "id": "j-9rY0x5iK76",
        "outputId": "93f25613-6788-4352-c72d-0beaef7a5d9d"
      },
      "source": [
        "# Model Definition with LSTM\n",
        "model = tf.keras.Sequential([\n",
        "    tf.keras.layers.Embedding(vocab_size, embedding_dim, input_length=max_length),\n",
        "    tf.keras.layers.Bidirectional(tf.keras.layers.LSTM(32)),\n",
        "    tf.keras.layers.Dense(6, activation='relu'),\n",
        "    tf.keras.layers.Dense(1, activation='sigmoid')\n",
        "])\n",
        "model.compile(loss='binary_crossentropy',optimizer='adam',metrics=['accuracy'])\n",
        "model.summary()"
      ],
      "execution_count": null,
      "outputs": [
        {
          "output_type": "stream",
          "text": [
            "Model: \"sequential_7\"\n",
            "_________________________________________________________________\n",
            "Layer (type)                 Output Shape              Param #   \n",
            "=================================================================\n",
            "embedding_7 (Embedding)      (None, 120, 16)           160000    \n",
            "_________________________________________________________________\n",
            "bidirectional_4 (Bidirection (None, 64)                12544     \n",
            "_________________________________________________________________\n",
            "dense_14 (Dense)             (None, 6)                 390       \n",
            "_________________________________________________________________\n",
            "dense_15 (Dense)             (None, 1)                 7         \n",
            "=================================================================\n",
            "Total params: 172,941\n",
            "Trainable params: 172,941\n",
            "Non-trainable params: 0\n",
            "_________________________________________________________________\n"
          ],
          "name": "stdout"
        }
      ]
    },
    {
      "cell_type": "code",
      "metadata": {
        "colab": {
          "base_uri": "https://localhost:8080/"
        },
        "id": "ny3P3YTNiUir",
        "outputId": "2d72c251-40d2-424c-de42-6aa969cd4b75"
      },
      "source": [
        "num_epochs = 50\n",
        "history = model.fit(padded, training_labels_final, epochs=num_epochs, validation_data=(testing_padded, testing_labels_final))"
      ],
      "execution_count": null,
      "outputs": [
        {
          "output_type": "stream",
          "text": [
            "Epoch 1/50\n",
            "782/782 [==============================] - 16s 18ms/step - loss: 0.5292 - accuracy: 0.7290 - val_loss: 0.4192 - val_accuracy: 0.8237\n",
            "Epoch 2/50\n",
            "782/782 [==============================] - 13s 17ms/step - loss: 0.3649 - accuracy: 0.8488 - val_loss: 0.3682 - val_accuracy: 0.8354\n",
            "Epoch 3/50\n",
            "782/782 [==============================] - 13s 17ms/step - loss: 0.2876 - accuracy: 0.8906 - val_loss: 0.3774 - val_accuracy: 0.8442\n",
            "Epoch 4/50\n",
            "782/782 [==============================] - 14s 17ms/step - loss: 0.2443 - accuracy: 0.9110 - val_loss: 0.3743 - val_accuracy: 0.8362\n",
            "Epoch 5/50\n",
            "782/782 [==============================] - 14s 17ms/step - loss: 0.2156 - accuracy: 0.9236 - val_loss: 0.3981 - val_accuracy: 0.8286\n",
            "Epoch 6/50\n",
            "782/782 [==============================] - 13s 17ms/step - loss: 0.1851 - accuracy: 0.9357 - val_loss: 0.4342 - val_accuracy: 0.8300\n",
            "Epoch 7/50\n",
            "782/782 [==============================] - 14s 18ms/step - loss: 0.1524 - accuracy: 0.9502 - val_loss: 0.4894 - val_accuracy: 0.8284\n",
            "Epoch 8/50\n",
            "782/782 [==============================] - 13s 17ms/step - loss: 0.1327 - accuracy: 0.9561 - val_loss: 0.5473 - val_accuracy: 0.8068\n",
            "Epoch 9/50\n",
            "782/782 [==============================] - 13s 17ms/step - loss: 0.1120 - accuracy: 0.9632 - val_loss: 0.5330 - val_accuracy: 0.8150\n",
            "Epoch 10/50\n",
            "782/782 [==============================] - 14s 17ms/step - loss: 0.0917 - accuracy: 0.9711 - val_loss: 0.5956 - val_accuracy: 0.8150\n",
            "Epoch 11/50\n",
            "782/782 [==============================] - 14s 17ms/step - loss: 0.0776 - accuracy: 0.9754 - val_loss: 0.6154 - val_accuracy: 0.8170\n",
            "Epoch 12/50\n",
            "782/782 [==============================] - 14s 18ms/step - loss: 0.0652 - accuracy: 0.9801 - val_loss: 0.6598 - val_accuracy: 0.8186\n",
            "Epoch 13/50\n",
            "782/782 [==============================] - 13s 17ms/step - loss: 0.0494 - accuracy: 0.9850 - val_loss: 0.6372 - val_accuracy: 0.8078\n",
            "Epoch 14/50\n",
            "782/782 [==============================] - 13s 17ms/step - loss: 0.0513 - accuracy: 0.9839 - val_loss: 0.6438 - val_accuracy: 0.8089\n",
            "Epoch 15/50\n",
            "782/782 [==============================] - 14s 17ms/step - loss: 0.0372 - accuracy: 0.9884 - val_loss: 0.7916 - val_accuracy: 0.8118\n",
            "Epoch 16/50\n",
            "782/782 [==============================] - 14s 17ms/step - loss: 0.0299 - accuracy: 0.9912 - val_loss: 0.8331 - val_accuracy: 0.8114\n",
            "Epoch 17/50\n",
            "782/782 [==============================] - 14s 17ms/step - loss: 0.0306 - accuracy: 0.9909 - val_loss: 0.8506 - val_accuracy: 0.8002\n",
            "Epoch 18/50\n",
            "782/782 [==============================] - 14s 17ms/step - loss: 0.0320 - accuracy: 0.9900 - val_loss: 0.8519 - val_accuracy: 0.8079\n",
            "Epoch 19/50\n",
            "782/782 [==============================] - 13s 17ms/step - loss: 0.0218 - accuracy: 0.9935 - val_loss: 0.8958 - val_accuracy: 0.8072\n",
            "Epoch 20/50\n",
            "782/782 [==============================] - 14s 17ms/step - loss: 0.0253 - accuracy: 0.9924 - val_loss: 0.9024 - val_accuracy: 0.8145\n",
            "Epoch 21/50\n",
            "782/782 [==============================] - 14s 17ms/step - loss: 0.0284 - accuracy: 0.9911 - val_loss: 0.8564 - val_accuracy: 0.8087\n",
            "Epoch 22/50\n",
            "782/782 [==============================] - 14s 17ms/step - loss: 0.0195 - accuracy: 0.9938 - val_loss: 0.8800 - val_accuracy: 0.8097\n",
            "Epoch 23/50\n",
            "782/782 [==============================] - 13s 17ms/step - loss: 0.0106 - accuracy: 0.9973 - val_loss: 0.9125 - val_accuracy: 0.8010\n",
            "Epoch 24/50\n",
            "782/782 [==============================] - 13s 17ms/step - loss: 0.0214 - accuracy: 0.9934 - val_loss: 0.9330 - val_accuracy: 0.8060\n",
            "Epoch 25/50\n",
            "782/782 [==============================] - 13s 17ms/step - loss: 0.0124 - accuracy: 0.9967 - val_loss: 1.0104 - val_accuracy: 0.8057\n",
            "Epoch 26/50\n",
            "782/782 [==============================] - 13s 17ms/step - loss: 0.0089 - accuracy: 0.9974 - val_loss: 1.0940 - val_accuracy: 0.7951\n",
            "Epoch 27/50\n",
            "782/782 [==============================] - 14s 17ms/step - loss: 0.0223 - accuracy: 0.9928 - val_loss: 0.9239 - val_accuracy: 0.8037\n",
            "Epoch 28/50\n",
            "782/782 [==============================] - 13s 17ms/step - loss: 0.0093 - accuracy: 0.9972 - val_loss: 1.0880 - val_accuracy: 0.7988\n",
            "Epoch 29/50\n",
            "782/782 [==============================] - 14s 17ms/step - loss: 0.0104 - accuracy: 0.9968 - val_loss: 1.0976 - val_accuracy: 0.8079\n",
            "Epoch 30/50\n",
            "782/782 [==============================] - 14s 17ms/step - loss: 0.0119 - accuracy: 0.9964 - val_loss: 1.0722 - val_accuracy: 0.8078\n",
            "Epoch 31/50\n",
            "782/782 [==============================] - 14s 17ms/step - loss: 0.0094 - accuracy: 0.9973 - val_loss: 1.1217 - val_accuracy: 0.7928\n",
            "Epoch 32/50\n",
            "782/782 [==============================] - 14s 18ms/step - loss: 0.0091 - accuracy: 0.9974 - val_loss: 1.0785 - val_accuracy: 0.7923\n",
            "Epoch 33/50\n",
            "782/782 [==============================] - 14s 18ms/step - loss: 0.0096 - accuracy: 0.9972 - val_loss: 1.1158 - val_accuracy: 0.8037\n",
            "Epoch 34/50\n",
            "782/782 [==============================] - 14s 18ms/step - loss: 0.0073 - accuracy: 0.9975 - val_loss: 1.1457 - val_accuracy: 0.8074\n",
            "Epoch 35/50\n",
            "782/782 [==============================] - 14s 18ms/step - loss: 0.0029 - accuracy: 0.9994 - val_loss: 1.1974 - val_accuracy: 0.8084\n",
            "Epoch 36/50\n",
            "782/782 [==============================] - 14s 18ms/step - loss: 0.0086 - accuracy: 0.9976 - val_loss: 1.0849 - val_accuracy: 0.8038\n",
            "Epoch 37/50\n",
            "782/782 [==============================] - 14s 18ms/step - loss: 0.0079 - accuracy: 0.9977 - val_loss: 1.2242 - val_accuracy: 0.8048\n",
            "Epoch 38/50\n",
            "782/782 [==============================] - 14s 17ms/step - loss: 0.0039 - accuracy: 0.9988 - val_loss: 1.2231 - val_accuracy: 0.7925\n",
            "Epoch 39/50\n",
            "782/782 [==============================] - 14s 18ms/step - loss: 3.8646e-04 - accuracy: 1.0000 - val_loss: 1.4330 - val_accuracy: 0.8055\n",
            "Epoch 40/50\n",
            "782/782 [==============================] - 13s 17ms/step - loss: 0.0101 - accuracy: 0.9970 - val_loss: 1.1038 - val_accuracy: 0.8063\n",
            "Epoch 41/50\n",
            "782/782 [==============================] - 14s 17ms/step - loss: 0.0089 - accuracy: 0.9969 - val_loss: 1.1456 - val_accuracy: 0.8037\n",
            "Epoch 42/50\n",
            "782/782 [==============================] - 13s 17ms/step - loss: 0.0037 - accuracy: 0.9986 - val_loss: 1.3271 - val_accuracy: 0.8038\n",
            "Epoch 43/50\n",
            "782/782 [==============================] - 14s 17ms/step - loss: 0.0060 - accuracy: 0.9984 - val_loss: 1.1749 - val_accuracy: 0.8056\n",
            "Epoch 44/50\n",
            "782/782 [==============================] - 14s 17ms/step - loss: 0.0054 - accuracy: 0.9980 - val_loss: 1.2162 - val_accuracy: 0.8065\n",
            "Epoch 45/50\n",
            "782/782 [==============================] - 14s 17ms/step - loss: 0.0056 - accuracy: 0.9984 - val_loss: 1.2892 - val_accuracy: 0.7920\n",
            "Epoch 46/50\n",
            "782/782 [==============================] - 14s 18ms/step - loss: 0.0059 - accuracy: 0.9981 - val_loss: 1.3412 - val_accuracy: 0.8019\n",
            "Epoch 47/50\n",
            "782/782 [==============================] - 14s 17ms/step - loss: 0.0020 - accuracy: 0.9992 - val_loss: 1.3436 - val_accuracy: 0.8077\n",
            "Epoch 48/50\n",
            "782/782 [==============================] - 14s 18ms/step - loss: 4.0054e-04 - accuracy: 1.0000 - val_loss: 1.4162 - val_accuracy: 0.8087\n",
            "Epoch 49/50\n",
            "782/782 [==============================] - 14s 17ms/step - loss: 3.7136e-05 - accuracy: 1.0000 - val_loss: 1.4883 - val_accuracy: 0.8108\n",
            "Epoch 50/50\n",
            "782/782 [==============================] - 14s 18ms/step - loss: 2.1399e-05 - accuracy: 1.0000 - val_loss: 1.5513 - val_accuracy: 0.8116\n"
          ],
          "name": "stdout"
        }
      ]
    },
    {
      "cell_type": "code",
      "metadata": {
        "colab": {
          "base_uri": "https://localhost:8080/",
          "height": 542
        },
        "id": "_uHgdzn7iWhS",
        "outputId": "904c3163-8051-4585-d48c-66dd5f5b4faa"
      },
      "source": [
        "import matplotlib.pyplot as plt\n",
        "\n",
        "def plot_graphs(history, string):\n",
        "  plt.plot(history.history[string])\n",
        "  plt.plot(history.history['val_'+string])\n",
        "  plt.xlabel(\"Epochs\")\n",
        "  plt.ylabel(string)\n",
        "  plt.legend([string, 'val_'+string])\n",
        "  plt.show()\n",
        "\n",
        "plot_graphs(history, 'accuracy')\n",
        "plot_graphs(history, 'loss')"
      ],
      "execution_count": null,
      "outputs": [
        {
          "output_type": "display_data",
          "data": {
            "image/png": "[encoded data removed]",
            "text/plain": [
              "<Figure size 432x288 with 1 Axes>"
            ]
          },
          "metadata": {
            "tags": [],
            "needs_background": "light"
          }
        },
        {
          "output_type": "display_data",
          "data": {
            "image/png": "[encoded data removed]",
            "text/plain": [
              "<Figure size 432x288 with 1 Axes>"
            ]
          },
          "metadata": {
            "tags": [],
            "needs_background": "light"
          }
        }
      ]
    },
    {
      "cell_type": "code",
      "metadata": {
        "colab": {
          "base_uri": "https://localhost:8080/"
        },
        "id": "pRlB9VRkiOg6",
        "outputId": "9f2f9ea8-019d-4fce-a064-0c037a6a61ee"
      },
      "source": [
        "# Model Definition with Conv1D\n",
        "model = tf.keras.Sequential([\n",
        "    tf.keras.layers.Embedding(vocab_size, embedding_dim, input_length=max_length),\n",
        "    tf.keras.layers.Conv1D(128, 5, activation='relu'),\n",
        "    tf.keras.layers.GlobalAveragePooling1D(),\n",
        "    tf.keras.layers.Dense(6, activation='relu'),\n",
        "    tf.keras.layers.Dense(1, activation='sigmoid')\n",
        "])\n",
        "model.compile(loss='binary_crossentropy',optimizer='adam',metrics=['accuracy'])\n",
        "model.summary()"
      ],
      "execution_count": null,
      "outputs": [
        {
          "output_type": "stream",
          "text": [
            "Model: \"sequential_8\"\n",
            "_________________________________________________________________\n",
            "Layer (type)                 Output Shape              Param #   \n",
            "=================================================================\n",
            "embedding_8 (Embedding)      (None, 120, 16)           160000    \n",
            "_________________________________________________________________\n",
            "conv1d_1 (Conv1D)            (None, 116, 128)          10368     \n",
            "_________________________________________________________________\n",
            "global_average_pooling1d_3 ( (None, 128)               0         \n",
            "_________________________________________________________________\n",
            "dense_16 (Dense)             (None, 6)                 774       \n",
            "_________________________________________________________________\n",
            "dense_17 (Dense)             (None, 1)                 7         \n",
            "=================================================================\n",
            "Total params: 171,149\n",
            "Trainable params: 171,149\n",
            "Non-trainable params: 0\n",
            "_________________________________________________________________\n"
          ],
          "name": "stdout"
        }
      ]
    },
    {
      "cell_type": "code",
      "metadata": {
        "colab": {
          "base_uri": "https://localhost:8080/"
        },
        "id": "s9B0TJIXiVbZ",
        "outputId": "9557950a-0f60-4e41-ab20-48f2ec585d2e"
      },
      "source": [
        "num_epochs = 50\n",
        "history = model.fit(padded, training_labels_final, epochs=num_epochs, validation_data=(testing_padded, testing_labels_final))"
      ],
      "execution_count": null,
      "outputs": [
        {
          "output_type": "stream",
          "text": [
            "Epoch 1/50\n",
            "782/782 [==============================] - 6s 7ms/step - loss: 0.5501 - accuracy: 0.7484 - val_loss: 0.4458 - val_accuracy: 0.8451\n",
            "Epoch 2/50\n",
            "782/782 [==============================] - 5s 7ms/step - loss: 0.3722 - accuracy: 0.8735 - val_loss: 0.4014 - val_accuracy: 0.8451\n",
            "Epoch 3/50\n",
            "782/782 [==============================] - 5s 7ms/step - loss: 0.2915 - accuracy: 0.9050 - val_loss: 0.4006 - val_accuracy: 0.8374\n",
            "Epoch 4/50\n",
            "782/782 [==============================] - 5s 7ms/step - loss: 0.2410 - accuracy: 0.9232 - val_loss: 0.4245 - val_accuracy: 0.8347\n",
            "Epoch 5/50\n",
            "782/782 [==============================] - 5s 7ms/step - loss: 0.2006 - accuracy: 0.9393 - val_loss: 0.4915 - val_accuracy: 0.8304\n",
            "Epoch 6/50\n",
            "782/782 [==============================] - 5s 7ms/step - loss: 0.1727 - accuracy: 0.9498 - val_loss: 0.5293 - val_accuracy: 0.8238\n",
            "Epoch 7/50\n",
            "782/782 [==============================] - 5s 7ms/step - loss: 0.1512 - accuracy: 0.9566 - val_loss: 0.6382 - val_accuracy: 0.8262\n",
            "Epoch 8/50\n",
            "782/782 [==============================] - 5s 7ms/step - loss: 0.1334 - accuracy: 0.9642 - val_loss: 0.7105 - val_accuracy: 0.8223\n",
            "Epoch 9/50\n",
            "782/782 [==============================] - 5s 7ms/step - loss: 0.1208 - accuracy: 0.9692 - val_loss: 0.7248 - val_accuracy: 0.8171\n",
            "Epoch 10/50\n",
            "782/782 [==============================] - 5s 7ms/step - loss: 0.1139 - accuracy: 0.9703 - val_loss: 0.7298 - val_accuracy: 0.8021\n",
            "Epoch 11/50\n",
            "782/782 [==============================] - 5s 7ms/step - loss: 0.1100 - accuracy: 0.9715 - val_loss: 0.8172 - val_accuracy: 0.8099\n",
            "Epoch 12/50\n",
            "782/782 [==============================] - 5s 7ms/step - loss: 0.1073 - accuracy: 0.9725 - val_loss: 0.8943 - val_accuracy: 0.8121\n",
            "Epoch 13/50\n",
            "782/782 [==============================] - 5s 7ms/step - loss: 0.1066 - accuracy: 0.9722 - val_loss: 1.0852 - val_accuracy: 0.8173\n",
            "Epoch 14/50\n",
            "782/782 [==============================] - 5s 7ms/step - loss: 0.1054 - accuracy: 0.9726 - val_loss: 0.9877 - val_accuracy: 0.8123\n",
            "Epoch 15/50\n",
            "782/782 [==============================] - 5s 7ms/step - loss: 0.0995 - accuracy: 0.9754 - val_loss: 1.0108 - val_accuracy: 0.8108\n",
            "Epoch 16/50\n",
            "782/782 [==============================] - 5s 7ms/step - loss: 0.0986 - accuracy: 0.9755 - val_loss: 1.1398 - val_accuracy: 0.8141\n",
            "Epoch 17/50\n",
            "782/782 [==============================] - 5s 7ms/step - loss: 0.1005 - accuracy: 0.9746 - val_loss: 1.2317 - val_accuracy: 0.8146\n",
            "Epoch 18/50\n",
            "782/782 [==============================] - 5s 7ms/step - loss: 0.1026 - accuracy: 0.9737 - val_loss: 1.1655 - val_accuracy: 0.8120\n",
            "Epoch 19/50\n",
            "782/782 [==============================] - 5s 7ms/step - loss: 0.1008 - accuracy: 0.9744 - val_loss: 1.1974 - val_accuracy: 0.8120\n",
            "Epoch 20/50\n",
            "782/782 [==============================] - 5s 7ms/step - loss: 0.0994 - accuracy: 0.9752 - val_loss: 1.2004 - val_accuracy: 0.8137\n",
            "Epoch 21/50\n",
            "782/782 [==============================] - 5s 7ms/step - loss: 0.0972 - accuracy: 0.9759 - val_loss: 1.3304 - val_accuracy: 0.8148\n",
            "Epoch 22/50\n",
            "782/782 [==============================] - 5s 7ms/step - loss: 0.1025 - accuracy: 0.9731 - val_loss: 1.3170 - val_accuracy: 0.8091\n",
            "Epoch 23/50\n",
            "782/782 [==============================] - 5s 7ms/step - loss: 0.1010 - accuracy: 0.9744 - val_loss: 1.1969 - val_accuracy: 0.8050\n",
            "Epoch 24/50\n",
            "782/782 [==============================] - 6s 7ms/step - loss: 0.0977 - accuracy: 0.9756 - val_loss: 1.2663 - val_accuracy: 0.8095\n",
            "Epoch 25/50\n",
            "782/782 [==============================] - 5s 7ms/step - loss: 0.0950 - accuracy: 0.9766 - val_loss: 1.4056 - val_accuracy: 0.8132\n",
            "Epoch 26/50\n",
            "782/782 [==============================] - 5s 7ms/step - loss: 0.0930 - accuracy: 0.9776 - val_loss: 1.4295 - val_accuracy: 0.8120\n",
            "Epoch 27/50\n",
            "782/782 [==============================] - 5s 7ms/step - loss: 0.0928 - accuracy: 0.9776 - val_loss: 1.3161 - val_accuracy: 0.8080\n",
            "Epoch 28/50\n",
            "782/782 [==============================] - 5s 7ms/step - loss: 0.1022 - accuracy: 0.9737 - val_loss: 1.3768 - val_accuracy: 0.8102\n",
            "Epoch 29/50\n",
            "782/782 [==============================] - 5s 7ms/step - loss: 0.1007 - accuracy: 0.9743 - val_loss: 1.2971 - val_accuracy: 0.8074\n",
            "Epoch 30/50\n",
            "782/782 [==============================] - 5s 7ms/step - loss: 0.0963 - accuracy: 0.9760 - val_loss: 1.4283 - val_accuracy: 0.8123\n",
            "Epoch 31/50\n",
            "782/782 [==============================] - 5s 7ms/step - loss: 0.0942 - accuracy: 0.9768 - val_loss: 1.4751 - val_accuracy: 0.8128\n",
            "Epoch 32/50\n",
            "782/782 [==============================] - 5s 7ms/step - loss: 0.0936 - accuracy: 0.9770 - val_loss: 1.3232 - val_accuracy: 0.8088\n",
            "Epoch 33/50\n",
            "782/782 [==============================] - 5s 7ms/step - loss: 0.0935 - accuracy: 0.9770 - val_loss: 1.3894 - val_accuracy: 0.8098\n",
            "Epoch 34/50\n",
            "782/782 [==============================] - 6s 7ms/step - loss: 0.0946 - accuracy: 0.9766 - val_loss: 1.3037 - val_accuracy: 0.8086\n",
            "Epoch 35/50\n",
            "782/782 [==============================] - 5s 7ms/step - loss: 0.0979 - accuracy: 0.9757 - val_loss: 1.4293 - val_accuracy: 0.8122\n",
            "Epoch 36/50\n",
            "782/782 [==============================] - 5s 7ms/step - loss: 0.0956 - accuracy: 0.9763 - val_loss: 1.2425 - val_accuracy: 0.8052\n",
            "Epoch 37/50\n",
            "782/782 [==============================] - 6s 7ms/step - loss: 0.0940 - accuracy: 0.9768 - val_loss: 1.4875 - val_accuracy: 0.8140\n",
            "Epoch 38/50\n",
            "782/782 [==============================] - 6s 7ms/step - loss: 0.0920 - accuracy: 0.9778 - val_loss: 1.4237 - val_accuracy: 0.8116\n",
            "Epoch 39/50\n",
            "782/782 [==============================] - 5s 7ms/step - loss: 0.0930 - accuracy: 0.9774 - val_loss: 1.2846 - val_accuracy: 0.8044\n",
            "Epoch 40/50\n",
            "782/782 [==============================] - 5s 7ms/step - loss: 0.0954 - accuracy: 0.9762 - val_loss: 1.3768 - val_accuracy: 0.8077\n",
            "Epoch 41/50\n",
            "782/782 [==============================] - 5s 7ms/step - loss: 0.0957 - accuracy: 0.9764 - val_loss: 1.5928 - val_accuracy: 0.8118\n",
            "Epoch 42/50\n",
            "782/782 [==============================] - 5s 7ms/step - loss: 0.0945 - accuracy: 0.9766 - val_loss: 1.2144 - val_accuracy: 0.7986\n",
            "Epoch 43/50\n",
            "782/782 [==============================] - 5s 7ms/step - loss: 0.0929 - accuracy: 0.9774 - val_loss: 1.2647 - val_accuracy: 0.8019\n",
            "Epoch 44/50\n",
            "782/782 [==============================] - 6s 7ms/step - loss: 0.0903 - accuracy: 0.9783 - val_loss: 1.6743 - val_accuracy: 0.8140\n",
            "Epoch 45/50\n",
            "782/782 [==============================] - 6s 7ms/step - loss: 0.0905 - accuracy: 0.9782 - val_loss: 1.2176 - val_accuracy: 0.7969\n",
            "Epoch 46/50\n",
            "782/782 [==============================] - 5s 7ms/step - loss: 0.0908 - accuracy: 0.9781 - val_loss: 1.4162 - val_accuracy: 0.8094\n",
            "Epoch 47/50\n",
            "782/782 [==============================] - 5s 7ms/step - loss: 0.0929 - accuracy: 0.9772 - val_loss: 1.5252 - val_accuracy: 0.8097\n",
            "Epoch 48/50\n",
            "782/782 [==============================] - 5s 7ms/step - loss: 0.0955 - accuracy: 0.9762 - val_loss: 1.3420 - val_accuracy: 0.8053\n",
            "Epoch 49/50\n",
            "782/782 [==============================] - 5s 7ms/step - loss: 0.0927 - accuracy: 0.9774 - val_loss: 1.4275 - val_accuracy: 0.8079\n",
            "Epoch 50/50\n",
            "782/782 [==============================] - 6s 7ms/step - loss: 0.0909 - accuracy: 0.9780 - val_loss: 1.1796 - val_accuracy: 0.7869\n"
          ],
          "name": "stdout"
        }
      ]
    },
    {
      "cell_type": "code",
      "metadata": {
        "colab": {
          "base_uri": "https://localhost:8080/",
          "height": 541
        },
        "id": "xaDWXQ7wiZvb",
        "outputId": "22782862-5528-4a92-85fb-099df7bd9894"
      },
      "source": [
        "import matplotlib.pyplot as plt\n",
        "\n",
        "def plot_graphs(history, string):\n",
        "  plt.plot(history.history[string])\n",
        "  plt.plot(history.history['val_'+string])\n",
        "  plt.xlabel(\"Epochs\")\n",
        "  plt.ylabel(string)\n",
        "  plt.legend([string, 'val_'+string])\n",
        "  plt.show()\n",
        "\n",
        "plot_graphs(history, 'accuracy')\n",
        "plot_graphs(history, 'loss')"
      ],
      "execution_count": null,
      "outputs": [
        {
          "output_type": "display_data",
          "data": {
            "image/png": "[encoded data removed]",
            "text/plain": [
              "<Figure size 432x288 with 1 Axes>"
            ]
          },
          "metadata": {
            "tags": [],
            "needs_background": "light"
          }
        },
        {
          "output_type": "display_data",
          "data": {
            "image/png": "[encoded data removed]",
            "text/plain": [
              "<Figure size 432x288 with 1 Axes>"
            ]
          },
          "metadata": {
            "tags": [],
            "needs_background": "light"
          }
        }
      ]
    }
  ]
}